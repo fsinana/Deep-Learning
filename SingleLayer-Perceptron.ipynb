{
 "cells": [
  {
   "cell_type": "code",
   "execution_count": 1,
   "metadata": {},
   "outputs": [],
   "source": [
    "import numpy as np\n",
    "import pandas as pd\n",
    "import matplotlib.pyplot as plt\n",
    "from sklearn.model_selection import train_test_split"
   ]
  },
  {
   "cell_type": "code",
   "execution_count": 2,
   "metadata": {},
   "outputs": [
    {
     "name": "stdout",
     "output_type": "stream",
     "text": [
      "converged at epoch 4\n",
      "0\n",
      "0\n",
      "0\n",
      "1\n"
     ]
    }
   ],
   "source": [
    "class Perceptron:\n",
    "  def __init__(self,input_size,learning_rate=0.1,epochs=100):\n",
    "    self.weights=np.zeros(input_size)\n",
    "    self.bias=0\n",
    "    self.learning_rate=learning_rate\n",
    "    self.epochs=epochs\n",
    "\n",
    "  def activation(self,x):\n",
    "    return 1 if x>=0 else 0\n",
    "\n",
    "  def predict(self,x):\n",
    "    z=np.dot(self.weights,x)+self.bias\n",
    "    return self.activation(z)\n",
    "\n",
    "  def train(self,X,y):\n",
    "    for epoch in range(self.epochs):\n",
    "      updates=0\n",
    "      for i in range(len(X)):\n",
    "        prediction=self.predict(X[i])\n",
    "        error=y[i]- prediction\n",
    "        if error!=0:\n",
    "          self.weights+=self.learning_rate*error*X[i]\n",
    "          self.bias+=self.learning_rate*error\n",
    "          updates+=1\n",
    "      if updates==0:\n",
    "        print(\"converged at epoch\",epoch+1)\n",
    "        break\n",
    "\n",
    "X=np.array([[0,0],[0,1],[1,0],[1,1]])\n",
    "y=np.array([0,0,0,1])\n",
    "\n",
    "perceptron=Perceptron(input_size=2)\n",
    "perceptron.train(X,y)\n",
    "\n",
    "for x in X:\n",
    "  print(perceptron.predict(x))\n"
   ]
  },
  {
   "cell_type": "code",
   "execution_count": 3,
   "metadata": {},
   "outputs": [],
   "source": [
    "df=pd.read_csv('https://gist.githubusercontent.com/curran/a08a1080b88344b0c8a7/raw/0e7a9b0a5d22642a06d3d5b9bcbad9890c8ee534/iris.csv')"
   ]
  },
  {
   "cell_type": "code",
   "execution_count": 4,
   "metadata": {},
   "outputs": [],
   "source": [
    "# Convert species into binary classification: Versicolor = 1, Others = 0\n",
    "df['species'] = df['species'].map({'setosa': 0, 'versicolor': 1, 'virginica': 0})\n",
    "\n",
    "# Select features (all four for better accuracy)\n",
    "X = df[['sepal_length', 'sepal_width', 'petal_length', 'petal_width']].values\n",
    "y = df['species'].values"
   ]
  },
  {
   "cell_type": "code",
   "execution_count": 5,
   "metadata": {},
   "outputs": [
    {
     "data": {
      "text/plain": [
       "750"
      ]
     },
     "execution_count": 5,
     "metadata": {},
     "output_type": "execute_result"
    }
   ],
   "source": [
    "df.size"
   ]
  },
  {
   "cell_type": "code",
   "execution_count": 6,
   "metadata": {},
   "outputs": [
    {
     "data": {
      "text/plain": [
       "(150, 5)"
      ]
     },
     "execution_count": 6,
     "metadata": {},
     "output_type": "execute_result"
    }
   ],
   "source": [
    "df.shape"
   ]
  },
  {
   "cell_type": "code",
   "execution_count": 7,
   "metadata": {},
   "outputs": [
    {
     "name": "stdout",
     "output_type": "stream",
     "text": [
      "[0 1]\n"
     ]
    }
   ],
   "source": [
    "print(df['species'].unique())  # ✅ Correct: Check unique values in 'species' column\n"
   ]
  }
 ],
 "metadata": {
  "kernelspec": {
   "display_name": "Python 3",
   "language": "python",
   "name": "python3"
  },
  "language_info": {
   "codemirror_mode": {
    "name": "ipython",
    "version": 3
   },
   "file_extension": ".py",
   "mimetype": "text/x-python",
   "name": "python",
   "nbconvert_exporter": "python",
   "pygments_lexer": "ipython3",
   "version": "3.12.6"
  }
 },
 "nbformat": 4,
 "nbformat_minor": 2
}
